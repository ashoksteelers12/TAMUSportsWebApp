{
 "cells": [
  {
   "cell_type": "code",
   "execution_count": 6,
   "metadata": {},
   "outputs": [],
   "source": [
    "import csv"
   ]
  },
  {
   "cell_type": "code",
   "execution_count": 7,
   "metadata": {},
   "outputs": [],
   "source": [
    "from sportsreference.ncaaf.roster import Roster\n",
    "from sportsreference.ncaaf.roster import Player\n",
    "from sportsreference.ncaaf.teams import Teams\n",
    "from sportsreference.ncaaf.schedule import Schedule\n",
    "from sportsreference.ncaaf.boxscore import Boxscores\n",
    "from sportsreference.ncaaf.rankings import Rankings"
   ]
  },
  {
   "cell_type": "code",
   "execution_count": 8,
   "metadata": {},
   "outputs": [],
   "source": [
    "fbRoster = []\n",
    "\n",
    "aggiesFB = Roster('TEXAS-AM')\n",
    "for player in aggiesFB.players:\n",
    "    fbRoster.append(player('2019'))"
   ]
  },
  {
   "cell_type": "code",
   "execution_count": 9,
   "metadata": {},
   "outputs": [],
   "source": [
    "with open('fbRoster.csv', mode='w') as tamuFile:\n",
    "    fieldnames = ['Name', 'QBR', 'Touchdowns', 'Rush Yards', 'Receiving Yards', 'Ints', 'Sacks', 'Tackles']\n",
    "    writer = csv.DictWriter(tamuFile, fieldnames=fieldnames)\n",
    "    \n",
    "    writer.writeheader()\n",
    "    for player in fbRoster:\n",
    "        name = player.name\n",
    "        qbr = player.quarterback_rating\n",
    "        touchdowns = player.rushing_and_receiving_touchdowns\n",
    "        if player.rush_yards != 'None':\n",
    "            rush = player.rush_yards\n",
    "        if player.receiving_yards != 'None':\n",
    "            receive = player.receiving_yards\n",
    "        ints = player.interceptions\n",
    "        sacks = player.sacks\n",
    "        tackles = player.total_tackles\n",
    "        \n",
    "        writer.writerow({'Name': name, 'QBR': qbr, 'Touchdowns': touchdowns, 'Rush Yards': rush, 'Receiving Yards': receive, 'Ints': ints, 'Sacks': sacks, 'Tackles': tackles})"
   ]
  },
  {
   "cell_type": "code",
   "execution_count": 10,
   "metadata": {},
   "outputs": [],
   "source": [
    "fbSchedule = []\n",
    "\n",
    "aggiesSCH = Schedule('TEXAS-AM')\n",
    "for game in aggiesSCH:\n",
    "    fbSchedule.append(game)"
   ]
  },
  {
   "cell_type": "code",
   "execution_count": 11,
   "metadata": {},
   "outputs": [],
   "source": [
    "with open('fbSchedule.csv', mode='w') as tamuFile:\n",
    "    fieldnames = ['Date', 'Day', 'Opponent', 'Opponent Conference', 'Location', 'Result']\n",
    "    writer = csv.DictWriter(tamuFile, fieldnames=fieldnames)\n",
    "    \n",
    "    writer.writeheader()\n",
    "    for game in fbSchedule:\n",
    "        date = game.date\n",
    "        day = game.day_of_week\n",
    "        opp = game.opponent_name\n",
    "        oppConf = game.opponent_conference\n",
    "        location = game.location\n",
    "        result = game.result\n",
    "        \n",
    "        writer.writerow({'Date': date, 'Day': day, 'Opponent': opp, 'Opponent Conference': oppConf, 'Location': location, 'Result': result})"
   ]
  },
  {
   "cell_type": "code",
   "execution_count": 12,
   "metadata": {},
   "outputs": [],
   "source": [
    "fbRankings = Rankings().current\n",
    "\n",
    "for team in fbRankings:\n",
    "    if team == 'texas-am':\n",
    "        rank = fbRankings[team]\n",
    "    else:\n",
    "        rank = 'None'"
   ]
  },
  {
   "cell_type": "code",
   "execution_count": 54,
   "metadata": {},
   "outputs": [],
   "source": [
    "with open('fbStats.csv', mode='w') as tamuFile:\n",
    "    fieldnames = ['Rank', 'Points', 'Opp Points']\n",
    "    writer = csv.DictWriter(tamuFile, fieldnames=fieldnames)\n",
    "    \n",
    "    writer.writeheader()\n",
    "    writer.writerow({'Rank': rank, 'Points': 29.5, 'Opp Points': 22.5})"
   ]
  },
  {
   "cell_type": "code",
   "execution_count": 14,
   "metadata": {},
   "outputs": [],
   "source": [
    "from sportsreference.ncaab.roster import Roster\n",
    "from sportsreference.ncaab.roster import Player\n",
    "from sportsreference.ncaab.teams import Teams\n",
    "from sportsreference.ncaab.schedule import Schedule\n",
    "from sportsreference.ncaab.boxscore import Boxscores\n",
    "from sportsreference.ncaab.rankings import Rankings"
   ]
  },
  {
   "cell_type": "code",
   "execution_count": 42,
   "metadata": {},
   "outputs": [],
   "source": [
    "bbRoster = []\n",
    "\n",
    "aggiesBB = Roster('TEXAS-AM')\n",
    "for player in aggiesBB.players:\n",
    "    bbRoster.append(player('2019'))\n",
    "del bbRoster[13]\n",
    "del bbRoster[13]"
   ]
  },
  {
   "cell_type": "code",
   "execution_count": 46,
   "metadata": {},
   "outputs": [],
   "source": [
    "with open('bbRoster.csv', mode='w') as tamuFile:\n",
    "    fieldnames = ['Name', 'Points', 'Steals', 'Blocks', 'Assists', 'Rebounds', 'Turnovers', '3-Pointer Percentage', 'Free Throw Percentage', 'Field Goal Percentage', 'Fouls', 'Minutes']\n",
    "    writer = csv.DictWriter(tamuFile, fieldnames=fieldnames)\n",
    "    \n",
    "    writer.writeheader()\n",
    "    for player in bbRoster:\n",
    "        name = player.name\n",
    "        points = player.points\n",
    "        steals = player.steals\n",
    "        blocks = player.blocks\n",
    "        assists = player.assists\n",
    "        rebounds = player.total_rebounds\n",
    "        turnovers = player.turnovers\n",
    "        three = player.three_point_percentage\n",
    "        freeThrow = player.free_throw_percentage\n",
    "        fieldGoal = player.field_goal_percentage\n",
    "        fouls = player.personal_fouls\n",
    "        minutes = player.minutes_played\n",
    "        \n",
    "        writer.writerow({'Name': name, 'Points': points, 'Steals': steals, 'Blocks': blocks, 'Assists': assists, 'Rebounds': rebounds, 'Turnovers': turnovers, '3-Pointer Percentage': three, 'Free Throw Percentage': freeThrow, 'Field Goal Percentage': fieldGoal, 'Fouls': fouls, 'Minutes': minutes})"
   ]
  },
  {
   "cell_type": "code",
   "execution_count": 47,
   "metadata": {},
   "outputs": [],
   "source": [
    "bbSchedule = []\n",
    "\n",
    "aggiesSCH = Schedule('TEXAS-AM')\n",
    "for game in aggiesSCH:\n",
    "    bbSchedule.append(game)"
   ]
  },
  {
   "cell_type": "code",
   "execution_count": 48,
   "metadata": {},
   "outputs": [],
   "source": [
    "with open('bbSchedule.csv', mode='w') as tamuFile:\n",
    "    fieldnames = ['Date', 'Opponent', 'Opponent Conference', 'Location', 'Result']\n",
    "    writer = csv.DictWriter(tamuFile, fieldnames=fieldnames)\n",
    "    \n",
    "    writer.writeheader()\n",
    "    for game in bbSchedule:\n",
    "        date = game.date\n",
    "        opp = game.opponent_name\n",
    "        oppConf = game.opponent_conference\n",
    "        location = game.location\n",
    "        result = game.result\n",
    "        \n",
    "        writer.writerow({'Date': date, 'Opponent': opp, 'Opponent Conference': oppConf, 'Location': location, 'Result': result})"
   ]
  },
  {
   "cell_type": "code",
   "execution_count": 52,
   "metadata": {},
   "outputs": [],
   "source": [
    "for team in Teams():\n",
    "    if team.abbreviation == 'TEXAS-AM':\n",
    "        tamu = team\n",
    "\n",
    "bbRankings = Rankings().current\n",
    "for team in bbRankings:\n",
    "    if team == 'texas-am':\n",
    "        rank = fbRankings[team]\n",
    "    else:\n",
    "        rank = 'None'"
   ]
  },
  {
   "cell_type": "code",
   "execution_count": 57,
   "metadata": {},
   "outputs": [],
   "source": [
    "with open('bbStats.csv', mode='w') as tamuFile:\n",
    "    fieldnames = ['Rank', 'SOS', 'Net Rating', 'Offensive Rating', '3-Pointer', 'Free Throw', 'Field Goal']\n",
    "    writer = csv.DictWriter(tamuFile, fieldnames=fieldnames)\n",
    "    \n",
    "    sos = tamu.strength_of_schedule\n",
    "    net = tamu.net_rating\n",
    "    off = tamu.offensive_rating\n",
    "    three = tamu.three_point_field_goal_percentage\n",
    "    ft = tamu.free_throw_percentage\n",
    "    fg = tamu.field_goal_percentage\n",
    "    \n",
    "    writer.writeheader()\n",
    "    writer.writerow({'Rank': rank, 'SOS': sos, 'Net Rating': net, 'Offensive Rating': off, '3-Pointer': three, 'Free Throw': ft, 'Field Goal': fg})"
   ]
  },
  {
   "cell_type": "code",
   "execution_count": null,
   "metadata": {},
   "outputs": [],
   "source": []
  }
 ],
 "metadata": {
  "kernelspec": {
   "display_name": "Python 3",
   "language": "python",
   "name": "python3"
  },
  "language_info": {
   "codemirror_mode": {
    "name": "ipython",
    "version": 3
   },
   "file_extension": ".py",
   "mimetype": "text/x-python",
   "name": "python",
   "nbconvert_exporter": "python",
   "pygments_lexer": "ipython3",
   "version": "3.8.3"
  }
 },
 "nbformat": 4,
 "nbformat_minor": 4
}
